{
 "cells": [
  {
   "cell_type": "code",
   "execution_count": 1,
   "metadata": {
    "collapsed": true
   },
   "outputs": [],
   "source": [
    "from requests import get\n",
    "from requests.exceptions import RequestException\n",
    "from contextlib import closing\n",
    "from bs4 import BeautifulSoup\n",
    "from urllib.request import urlopen"
   ]
  },
  {
   "cell_type": "code",
   "execution_count": 2,
   "metadata": {},
   "outputs": [
    {
     "name": "stderr",
     "output_type": "stream",
     "text": [
      "c:\\users\\aurquhart\\appdata\\local\\continuum\\anaconda3\\lib\\site-packages\\pandas\\core\\computation\\__init__.py:18: UserWarning: The installed version of numexpr 2.4.3 is not supported in pandas and will be not be used\n",
      "The minimum supported version is 2.4.6\n",
      "\n",
      "  ver=ver, min_ver=_MIN_NUMEXPR_VERSION), UserWarning)\n"
     ]
    }
   ],
   "source": [
    "import pandas as pd\n",
    "import numpy as np\n",
    "import matplotlib.pyplot as plt\n",
    "#import seaborn as sns"
   ]
  },
  {
   "cell_type": "code",
   "execution_count": 3,
   "metadata": {
    "collapsed": true
   },
   "outputs": [],
   "source": [
    "#select url\n",
    "url = \"https://www.hearthpwn.com/forums/hearthstone-general/card-discussion/225673-new-mage-legendary-minion-hex-lord-malacrass\"\n",
    "html = urlopen(url)"
   ]
  },
  {
   "cell_type": "code",
   "execution_count": 4,
   "metadata": {},
   "outputs": [
    {
     "data": {
      "text/plain": [
       "bs4.BeautifulSoup"
      ]
     },
     "execution_count": 4,
     "metadata": {},
     "output_type": "execute_result"
    }
   ],
   "source": [
    "#convert url to a bs object\n",
    "soup = BeautifulSoup(html, 'lxml')\n",
    "type(soup)"
   ]
  },
  {
   "cell_type": "code",
   "execution_count": 7,
   "metadata": {},
   "outputs": [
    {
     "name": "stdout",
     "output_type": "stream",
     "text": [
      "<title>New Mage Legendary Minion - Hex Lord Malacrass - Card Discussion - Hearthstone General - HearthPwn Forums - HearthPwn </title>\n",
      "New Mage Legendary Minion - Hex Lord Malacrass - Card Discussion - Hearthstone General - HearthPwn Forums - HearthPwn \n"
     ]
    }
   ],
   "source": [
    "# Get the title\n",
    "title = soup.title\n",
    "print(title)\n",
    "#or if you just want to the text without the tab\n",
    "print(soup.title.text)"
   ]
  },
  {
   "cell_type": "code",
   "execution_count": 6,
   "metadata": {},
   "outputs": [
    {
     "name": "stdout",
     "output_type": "stream",
     "text": [
      "<noscript><iframe height=\"0\" src=\"//www.googletagmanager.com/ns.html?id=GTM-PCJK45\" style=\"display:none;visibility:hidden\" width=\"0\"></iframe></noscript>\n"
     ]
    }
   ],
   "source": [
    "#try to grab something more complicated\n",
    "ns = soup.noscript\n",
    "print (ns)"
   ]
  },
  {
   "cell_type": "code",
   "execution_count": 21,
   "metadata": {},
   "outputs": [],
   "source": [
    "#You use the find method to find stuff which is further down\n",
    "match = soup.find('div',class_= 'poll-results b-poll-results hide' )\n",
    "#print(match)"
   ]
  },
  {
   "cell_type": "code",
   "execution_count": 15,
   "metadata": {},
   "outputs": [],
   "source": [
    "#to find teh first cho\n",
    "#match = match.find('span',class_= 'choice' )\n",
    "#print(match)"
   ]
  },
  {
   "cell_type": "code",
   "execution_count": 44,
   "metadata": {},
   "outputs": [
    {
     "name": "stdout",
     "output_type": "stream",
     "text": [
      " Hex Lord Malacrass\n"
     ]
    }
   ],
   "source": [
    "#Now start to pull together stuff for first table\n",
    "#First get the name of the card\n",
    "cardfullname = soup.h2.text\n",
    "\n",
    "#I need to split off the initial text - so I split based on the final '-' then I take what comes after that\n",
    "cardname = cardfullname.rsplit('-',1)[1]\n",
    "print(cardname)\n"
   ]
  },
  {
   "cell_type": "code",
   "execution_count": 31,
   "metadata": {},
   "outputs": [
    {
     "name": "stdout",
     "output_type": "stream",
     "text": [
      "['Meta-defining!', 'Very Good', 'Playable', 'Bad', 'Dust It!']\n"
     ]
    }
   ],
   "source": [
    "#create list of choices\n",
    "choices = match.find_all('span',class_= 'choice' )\n",
    "choiceslist = []\n",
    "for c in choices:\n",
    "    choiceslist.append(c.text)\n",
    "    \n",
    "print (choiceslist)\n"
   ]
  },
  {
   "cell_type": "code",
   "execution_count": 35,
   "metadata": {},
   "outputs": [
    {
     "name": "stdout",
     "output_type": "stream",
     "text": [
      "['5.8%', '23.7%', '41.6%', '20.3%', '8.5%']\n"
     ]
    }
   ],
   "source": [
    "#create list of scores\n",
    "scores = match.find_all('span',class_= 'percentage' )\n",
    "percentlist = []\n",
    "for c in scores:\n",
    "    percentlist.append(c.text)\n",
    "    \n",
    "print (percentlist)\n"
   ]
  },
  {
   "cell_type": "code",
   "execution_count": 45,
   "metadata": {},
   "outputs": [
    {
     "name": "stdout",
     "output_type": "stream",
     "text": [
      "             card_name   card_strength percentage\n",
      "0   Hex Lord Malacrass  Meta-defining!       5.8%\n",
      "1   Hex Lord Malacrass       Very Good      23.7%\n",
      "2   Hex Lord Malacrass        Playable      41.6%\n",
      "3   Hex Lord Malacrass             Bad      20.3%\n",
      "4   Hex Lord Malacrass        Dust It!       8.5%\n"
     ]
    }
   ],
   "source": [
    "#create dataframe to join them together\n",
    "df = pd.DataFrame(\n",
    "    {'card_name': cardname,\n",
    "    'card_strength': choiceslist,\n",
    "    'percentage': percentlist\n",
    "    }\n",
    ")\n",
    "print (df)"
   ]
  },
  {
   "cell_type": "code",
   "execution_count": 46,
   "metadata": {},
   "outputs": [
    {
     "data": {
      "text/html": [
       "<div>\n",
       "<style>\n",
       "    .dataframe thead tr:only-child th {\n",
       "        text-align: right;\n",
       "    }\n",
       "\n",
       "    .dataframe thead th {\n",
       "        text-align: left;\n",
       "    }\n",
       "\n",
       "    .dataframe tbody tr th {\n",
       "        vertical-align: top;\n",
       "    }\n",
       "</style>\n",
       "<table border=\"1\" class=\"dataframe\">\n",
       "  <thead>\n",
       "    <tr style=\"text-align: right;\">\n",
       "      <th></th>\n",
       "      <th>card_name</th>\n",
       "      <th>card_strength</th>\n",
       "      <th>percentage</th>\n",
       "    </tr>\n",
       "  </thead>\n",
       "  <tbody>\n",
       "    <tr>\n",
       "      <th>0</th>\n",
       "      <td>Hex Lord Malacrass</td>\n",
       "      <td>Meta-defining!</td>\n",
       "      <td>5.8%</td>\n",
       "    </tr>\n",
       "    <tr>\n",
       "      <th>1</th>\n",
       "      <td>Hex Lord Malacrass</td>\n",
       "      <td>Very Good</td>\n",
       "      <td>23.7%</td>\n",
       "    </tr>\n",
       "    <tr>\n",
       "      <th>2</th>\n",
       "      <td>Hex Lord Malacrass</td>\n",
       "      <td>Playable</td>\n",
       "      <td>41.6%</td>\n",
       "    </tr>\n",
       "    <tr>\n",
       "      <th>3</th>\n",
       "      <td>Hex Lord Malacrass</td>\n",
       "      <td>Bad</td>\n",
       "      <td>20.3%</td>\n",
       "    </tr>\n",
       "    <tr>\n",
       "      <th>4</th>\n",
       "      <td>Hex Lord Malacrass</td>\n",
       "      <td>Dust It!</td>\n",
       "      <td>8.5%</td>\n",
       "    </tr>\n",
       "  </tbody>\n",
       "</table>\n",
       "</div>"
      ],
      "text/plain": [
       "             card_name   card_strength percentage\n",
       "0   Hex Lord Malacrass  Meta-defining!       5.8%\n",
       "1   Hex Lord Malacrass       Very Good      23.7%\n",
       "2   Hex Lord Malacrass        Playable      41.6%\n",
       "3   Hex Lord Malacrass             Bad      20.3%\n",
       "4   Hex Lord Malacrass        Dust It!       8.5%"
      ]
     },
     "execution_count": 46,
     "metadata": {},
     "output_type": "execute_result"
    }
   ],
   "source": [
    "#try using append and empty dataframe\n",
    "columns = ['card_name','card_strength', 'percentage']\n",
    "df2 = pd.DataFrame(columns=columns)\n",
    "\n",
    "df2.append(df)"
   ]
  },
  {
   "cell_type": "code",
   "execution_count": null,
   "metadata": {
    "collapsed": true
   },
   "outputs": [],
   "source": []
  }
 ],
 "metadata": {
  "kernelspec": {
   "display_name": "Python 3",
   "language": "python",
   "name": "python3"
  },
  "language_info": {
   "codemirror_mode": {
    "name": "ipython",
    "version": 3
   },
   "file_extension": ".py",
   "mimetype": "text/x-python",
   "name": "python",
   "nbconvert_exporter": "python",
   "pygments_lexer": "ipython3",
   "version": "3.4.3"
  }
 },
 "nbformat": 4,
 "nbformat_minor": 2
}
