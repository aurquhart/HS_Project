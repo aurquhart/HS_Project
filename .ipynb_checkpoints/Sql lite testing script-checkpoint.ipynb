{
 "cells": [
  {
   "cell_type": "code",
   "execution_count": 1,
   "metadata": {
    "collapsed": true
   },
   "outputs": [],
   "source": [
    "import sqlite3"
   ]
  },
  {
   "cell_type": "code",
   "execution_count": 3,
   "metadata": {
    "collapsed": true
   },
   "outputs": [],
   "source": [
    "# Creates or opens a file called mydb with a SQLite3 DB\n",
    "db = sqlite3.connect('data/mydb')"
   ]
  },
  {
   "cell_type": "code",
   "execution_count": 4,
   "metadata": {
    "collapsed": false
   },
   "outputs": [],
   "source": [
    "# Get a cursor object\n",
    "cursor = db.cursor()\n",
    "cursor.execute('''\n",
    "    CREATE TABLE users(id INTEGER PRIMARY KEY, name TEXT,\n",
    "                       phone TEXT, email TEXT unique, password TEXT)\n",
    "''')\n",
    "db.commit()"
   ]
  },
  {
   "cell_type": "code",
   "execution_count": 5,
   "metadata": {
    "collapsed": false
   },
   "outputs": [
    {
     "name": "stdout",
     "output_type": "stream",
     "text": [
      "First user inserted\n",
      "Second user inserted\n"
     ]
    }
   ],
   "source": [
    "cursor = db.cursor()\n",
    "name1 = 'Andres'\n",
    "phone1 = '3366858'\n",
    "email1 = 'user@example.com'\n",
    "# A very secure password\n",
    "password1 = '12345'\n",
    " \n",
    "name2 = 'John'\n",
    "phone2 = '5557241'\n",
    "email2 = 'johndoe@example.com'\n",
    "password2 = 'abcdef'\n",
    " \n",
    "# Insert user 1\n",
    "cursor.execute('''INSERT INTO users(name, phone, email, password)\n",
    "                  VALUES(?,?,?,?)''', (name1,phone1, email1, password1))\n",
    "print('First user inserted')\n",
    " \n",
    "# Insert user 2\n",
    "cursor.execute('''INSERT INTO users(name, phone, email, password)\n",
    "                  VALUES(?,?,?,?)''', (name2,phone2, email2, password2))\n",
    "print('Second user inserted')\n",
    " \n",
    "db.commit()"
   ]
  },
  {
   "cell_type": "code",
   "execution_count": 7,
   "metadata": {
    "collapsed": false
   },
   "outputs": [],
   "source": [
    "#Insert mutlple records\n",
    "\n",
    "name3 = 'Paul'\n",
    "phone3 = '44534'\n",
    "email3 = 'user3@example.com'\n",
    "# A very secure password\n",
    "password3 = '123451'\n",
    " \n",
    "name4 = 'Mike'\n",
    "phone4 = '5263'\n",
    "email4 = 'johndoe4@example.com'\n",
    "password4 = 'abcdefg'\n",
    "\n",
    "users = [(name3,phone3, email3, password3),\n",
    "         (name4,phone4, email4, password4)\n",
    "        ]\n",
    "cursor.executemany(''' INSERT INTO users(name, phone, email, password) VALUES(?,?,?,?)''', users)\n",
    "db.commit()"
   ]
  },
  {
   "cell_type": "code",
   "execution_count": 8,
   "metadata": {
    "collapsed": false
   },
   "outputs": [
    {
     "name": "stdout",
     "output_type": "stream",
     "text": [
      "Andres\n",
      "John : johndoe@example.com, 5557241\n",
      "Paul : user3@example.com, 44534\n",
      "Mike : johndoe4@example.com, 5263\n"
     ]
    }
   ],
   "source": [
    "#Now fetch some of the data\n",
    "cursor.execute('''SELECT name, email, phone FROM users''')\n",
    "user1 = cursor.fetchone() #retrieve the first row\n",
    "print(user1[0]) #Print the first column retrieved(user's name)\n",
    "all_rows = cursor.fetchall()\n",
    "for row in all_rows:\n",
    "    # row[0] returns the first column in the query (name), row[1] returns email column.\n",
    "    print('{0} : {1}, {2}'.format(row[0], row[1], row[2]))"
   ]
  },
  {
   "cell_type": "code",
   "execution_count": null,
   "metadata": {
    "collapsed": true
   },
   "outputs": [],
   "source": []
  }
 ],
 "metadata": {
  "kernelspec": {
   "display_name": "Python 3",
   "language": "python",
   "name": "python3"
  },
  "language_info": {
   "codemirror_mode": {
    "name": "ipython",
    "version": 3
   },
   "file_extension": ".py",
   "mimetype": "text/x-python",
   "name": "python",
   "nbconvert_exporter": "python",
   "pygments_lexer": "ipython3",
   "version": "3.5.1"
  }
 },
 "nbformat": 4,
 "nbformat_minor": 0
}
