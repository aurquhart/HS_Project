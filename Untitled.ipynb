{
 "cells": [
  {
   "cell_type": "code",
   "execution_count": 7,
   "metadata": {
    "collapsed": true
   },
   "outputs": [],
   "source": [
    "from requests import get\n",
    "from requests.exceptions import RequestException\n",
    "from contextlib import closing\n",
    "from bs4 import BeautifulSoup\n",
    "from urllib.request import urlopen"
   ]
  },
  {
   "cell_type": "code",
   "execution_count": 6,
   "metadata": {},
   "outputs": [],
   "source": [
    "import pandas as pd\n",
    "import numpy as np\n",
    "import matplotlib.pyplot as plt\n",
    "#import seaborn as sns"
   ]
  },
  {
   "cell_type": "code",
   "execution_count": 8,
   "metadata": {
    "collapsed": true
   },
   "outputs": [],
   "source": [
    "url = \"https://www.hearthpwn.com/forums/hearthstone-general/card-discussion/225673-new-mage-legendary-minion-hex-lord-malacrass\"\n",
    "html = urlopen(url)"
   ]
  },
  {
   "cell_type": "code",
   "execution_count": 9,
   "metadata": {},
   "outputs": [
    {
     "data": {
      "text/plain": [
       "bs4.BeautifulSoup"
      ]
     },
     "execution_count": 9,
     "metadata": {},
     "output_type": "execute_result"
    }
   ],
   "source": [
    "soup = BeautifulSoup(html, 'lxml')\n",
    "type(soup)"
   ]
  },
  {
   "cell_type": "code",
   "execution_count": 10,
   "metadata": {},
   "outputs": [
    {
     "name": "stdout",
     "output_type": "stream",
     "text": [
      "<title>New Mage Legendary Minion - Hex Lord Malacrass - Card Discussion - Hearthstone General - HearthPwn Forums - HearthPwn </title>\n"
     ]
    }
   ],
   "source": [
    "# Get the title\n",
    "title = soup.title\n",
    "print(title)"
   ]
  },
  {
   "cell_type": "code",
   "execution_count": 11,
   "metadata": {},
   "outputs": [
    {
     "name": "stdout",
     "output_type": "stream",
     "text": [
      "[<li><a class=\"b-social-youtube\" href=\"http://www.youtube.com/user/hearthpwn?feature=watch\" target=\"_blank\">Subscribe On YouTube</a></li>, <li><a class=\"b-social-twitter\" href=\"http://www.twitter.com/hearthpwn\" target=\"_blank\">Follow Us On Twitter</a></li>, <li><a class=\"b-social-facebook\" href=\"https://www.facebook.com/hearthpwn\" target=\"_blank\">Like Us On Facebook</a></li>, <li class=\" b-list-item p-nav-item\" id=\"nav-home\">\n",
      "<a class=\"\" href=\"/\">\n",
      "<span class=\"b-list-label\">\r\n",
      "                   Home\r\n",
      "    \r\n",
      "                </span>\n",
      "</a>\n",
      "</li>, <li class=\" section b-list-item p-nav-item\" id=\"nav-cards\">\n",
      "<a class=\"\" href=\"/cards?display=3&amp;filter-premium=1\">\n",
      "<span class=\"b-list-label\">\r\n",
      "                   Cards\r\n",
      "    \r\n",
      "                </span>\n",
      "</a>\n",
      "<ul class=\"\">\n",
      "<li class=\" b-list-item p-nav-item\" id=\"nav-ability\">\n",
      "<a class=\"\" href=\"/cards/ability?display=3&amp;filter-premium=1\">\n",
      "<span class=\"b-list-label\">\r\n",
      "                   Ability\r\n",
      "    \r\n",
      "                </span>\n",
      "</a>\n",
      "</li>\n",
      "<li class=\" b-list-item p-nav-item\" id=\"nav-minion\">\n",
      "<a class=\"\" href=\"/cards/minion?display=3&amp;filter-premium=1\">\n",
      "<span class=\"b-list-label\">\r\n",
      "                   Minion\r\n",
      "    \r\n",
      "                </span>\n",
      "</a>\n",
      "</li>\n",
      "<li class=\" b-list-item p-nav-item\" id=\"nav-weapon\">\n",
      "<a class=\"\" href=\"/cards/weapon?display=3&amp;filter-premium=1\">\n",
      "<span class=\"b-list-label\">\r\n",
      "                   Weapon\r\n",
      "    \r\n",
      "                </span>\n",
      "</a>\n",
      "</li>\n",
      "<li class=\" b-list-item p-nav-item\" id=\"nav-hero\">\n",
      "<a class=\"\" href=\"/cards/hero?display=3&amp;filter-premium=1\">\n",
      "<span class=\"b-list-label\">\r\n",
      "                   Hero\r\n",
      "    \r\n",
      "                </span>\n",
      "</a>\n",
      "</li>\n",
      "<li class=\" b-list-item p-nav-item\" id=\"nav-hero-power\">\n",
      "<a class=\"\" href=\"/cards/hero-power?display=3\">\n",
      "<span class=\"b-list-label\">\r\n",
      "                   Hero Power\r\n",
      "    \r\n",
      "                </span>\n",
      "</a>\n",
      "</li>\n",
      "<li class=\" b-list-item p-nav-item\" id=\"nav-leg-crafting-guide\" title=\"Hearthstone Legendary Crafting Guide &amp; Tier List\">\n",
      "<a class=\"\" href=\"/forums/hearthstone-general/card-discussion/205920-legendary-tier-list-crafting-guide\">\n",
      "<span class=\"b-list-label\">\r\n",
      "                   Leg. Crafting Guide\r\n",
      "    \r\n",
      "                </span>\n",
      "</a>\n",
      "</li>\n",
      "<li class=\" b-list-item p-nav-item\" id=\"nav-classic\">\n",
      "<a class=\"\" href=\"/cards?filter-premium=1&amp;filter-set=3&amp;display=3\">\n",
      "<span class=\"b-list-label\">\r\n",
      "                   Classic\r\n",
      "    \r\n",
      "                </span>\n",
      "</a>\n",
      "</li>\n",
      "<li class=\" b-list-item p-nav-item\" id=\"nav-curse-of-naxxramas\">\n",
      "<a class=\"\" href=\"/cards?filter-unreleased=1&amp;filter-set=100&amp;filter-premium=1&amp;display=3\">\n",
      "<span class=\"b-list-label\">\r\n",
      "                   Curse of Naxxramas\r\n",
      "    \r\n",
      "                </span>\n",
      "</a>\n",
      "</li>\n",
      "<li class=\" b-list-item p-nav-item\" id=\"nav-goblins-vs-gnomes\">\n",
      "<a class=\"\" href=\"/cards?filter-unreleased=1&amp;filter-set=101&amp;filter-premium=1&amp;display=3\">\n",
      "<span class=\"b-list-label\">\r\n",
      "                   Goblins vs Gnomes\r\n",
      "    \r\n",
      "                </span>\n",
      "</a>\n",
      "</li>\n",
      "<li class=\" b-list-item p-nav-item\" id=\"nav-blackrock-mountain\">\n",
      "<a class=\"\" href=\"/cards?filter-unreleased=1&amp;filter-set=102&amp;filter-premium=1&amp;display=3\">\n",
      "<span class=\"b-list-label\">\r\n",
      "                   Blackrock Mountain\r\n",
      "    \r\n",
      "                </span>\n",
      "</a>\n",
      "</li>\n",
      "<li class=\" b-list-item p-nav-item\" id=\"nav-the-grand-tourney\">\n",
      "<a class=\"\" href=\"/cards?filter-unreleased=1&amp;filter-set=103&amp;filter-premium=1&amp;display=3\">\n",
      "<span class=\"b-list-label\">\r\n",
      "                   The Grand Tourney\r\n",
      "    \r\n",
      "                </span>\n",
      "</a>\n",
      "</li>\n",
      "<li class=\" b-list-item p-nav-item\" id=\"nav-the-league-of-explorers\">\n",
      "<a class=\"\" href=\"/cards?filter-unreleased=1&amp;filter-set=104&amp;filter-premium=1&amp;display=3\">\n",
      "<span class=\"b-list-label\">\r\n",
      "                   The League of Explorers\r\n",
      "    \r\n",
      "                </span>\n",
      "</a>\n",
      "</li>\n",
      "<li class=\" b-list-item p-nav-item\" id=\"nav-whispers-of-the-old-gods\">\n",
      "<a class=\"\" href=\"/cards?filter-premium=1&amp;filter-set=105&amp;filter-unreleased=1&amp;display=3\">\n",
      "<span class=\"b-list-label\">\r\n",
      "                   Whispers of the Old Gods\r\n",
      "    \r\n",
      "                </span>\n",
      "</a>\n",
      "</li>\n",
      "<li class=\" b-list-item p-nav-item\" id=\"nav-one-night-in-karazhan\">\n",
      "<a class=\"\" href=\"/cards?filter-premium=1&amp;filter-set=106&amp;filter-unreleased=1&amp;display=3\">\n",
      "<span class=\"b-list-label\">\r\n",
      "                   One Night in Karazhan\r\n",
      "    \r\n",
      "                </span>\n",
      "</a>\n",
      "</li>\n",
      "<li class=\" b-list-item p-nav-item\" id=\"nav-mean-streets-of-gadgetzan\">\n",
      "<a class=\"\" href=\"/cards?filter-premium=1&amp;filter-set=107&amp;filter-unreleased=1&amp;display=3\">\n",
      "<span class=\"b-list-label\">\r\n",
      "                   Mean Streets of Gadgetzan\r\n",
      "    \r\n",
      "                </span>\n",
      "</a>\n",
      "</li>\n",
      "<li class=\" b-list-item p-nav-item\" id=\"nav-journey-to-ungoro\">\n",
      "<a class=\"\" href=\"/cards?filter-premium=1&amp;filter-set=108&amp;filter-unreleased=1&amp;display=3\">\n",
      "<span class=\"b-list-label\">\r\n",
      "                   Journey to Un'Goro\r\n",
      "    \r\n",
      "                </span>\n",
      "</a>\n",
      "</li>\n",
      "<li class=\" b-list-item p-nav-item\" id=\"nav-frozen-throne\">\n",
      "<a class=\"\" href=\"/cards?filter-premium=1&amp;filter-set=109&amp;filter-unreleased=1&amp;display=3\">\n",
      "<span class=\"b-list-label\">\r\n",
      "                   Frozen Throne\r\n",
      "    \r\n",
      "                </span>\n",
      "</a>\n",
      "</li>\n",
      "<li class=\" b-list-item p-nav-item\" id=\"nav-kobolds-catacombs\">\n",
      "<a class=\"\" href=\"/cards?filter-premium=1&amp;filter-set=110&amp;filter-unreleased=1&amp;display=3\">\n",
      "<span class=\"b-list-label\">\r\n",
      "                   Kobolds &amp; Catacombs\r\n",
      "    \r\n",
      "                </span>\n",
      "</a>\n",
      "</li>\n",
      "<li class=\" b-list-item p-nav-item\" id=\"nav-the-witchwood\">\n",
      "<a class=\"\" href=\"/cards?filter-premium=1&amp;filter-set=111&amp;filter-unreleased=1&amp;display=3\">\n",
      "<span class=\"b-list-label\">\r\n",
      "                   The Witchwood\r\n",
      "    \r\n",
      "                </span>\n",
      "</a>\n",
      "</li>\n",
      "<li class=\" b-list-item p-nav-item\" id=\"nav-the-boomsday-project\">\n",
      "<a class=\"\" href=\"/cards?filter-premium=1&amp;filter-set=113&amp;filter-unreleased=1&amp;display=3\">\n",
      "<span class=\"b-list-label\">\r\n",
      "                   The Boomsday Project\r\n",
      "    \r\n",
      "                </span>\n",
      "</a>\n",
      "</li>\n",
      "<li class=\" b-list-item p-nav-item\" id=\"nav-rastakhans-rumble\">\n",
      "<a class=\"\" href=\"/cards?filter-premium=1&amp;filter-set=114&amp;filter-unreleased=1&amp;display=3\">\n",
      "<span class=\"b-list-label\">\r\n",
      "                   Rastakhan's Rumble\r\n",
      "    \r\n",
      "                </span>\n",
      "</a>\n",
      "</li>\n",
      "<li class=\" b-list-item p-nav-item\" id=\"nav-card-back-gallery\">\n",
      "<a class=\"\" href=\"http://www.hearthpwn.com/guides/592-the-card-backs-of-hearthstone\">\n",
      "<span class=\"b-list-label\">\r\n",
      "                   Card Back Gallery\r\n",
      "    \r\n",
      "                </span>\n",
      "</a>\n",
      "</li>\n",
      "<li class=\" b-list-item p-nav-item\" id=\"nav-card-tooltips\">\n",
      "<a class=\"\" href=\"http://www.hearthpwn.com/tooltips\">\n",
      "<span class=\"b-list-label\">\r\n",
      "                   Card Tooltips\r\n",
      "    \r\n",
      "                </span>\n",
      "</a>\n",
      "</li>\n",
      "</ul>\n",
      "</li>, <li class=\" b-list-item p-nav-item\" id=\"nav-ability\">\n",
      "<a class=\"\" href=\"/cards/ability?display=3&amp;filter-premium=1\">\n",
      "<span class=\"b-list-label\">\r\n",
      "                   Ability\r\n",
      "    \r\n",
      "                </span>\n",
      "</a>\n",
      "</li>, <li class=\" b-list-item p-nav-item\" id=\"nav-minion\">\n",
      "<a class=\"\" href=\"/cards/minion?display=3&amp;filter-premium=1\">\n",
      "<span class=\"b-list-label\">\r\n",
      "                   Minion\r\n",
      "    \r\n",
      "                </span>\n",
      "</a>\n",
      "</li>, <li class=\" b-list-item p-nav-item\" id=\"nav-weapon\">\n",
      "<a class=\"\" href=\"/cards/weapon?display=3&amp;filter-premium=1\">\n",
      "<span class=\"b-list-label\">\r\n",
      "                   Weapon\r\n",
      "    \r\n",
      "                </span>\n",
      "</a>\n",
      "</li>, <li class=\" b-list-item p-nav-item\" id=\"nav-hero\">\n",
      "<a class=\"\" href=\"/cards/hero?display=3&amp;filter-premium=1\">\n",
      "<span class=\"b-list-label\">\r\n",
      "                   Hero\r\n",
      "    \r\n",
      "                </span>\n",
      "</a>\n",
      "</li>, <li class=\" b-list-item p-nav-item\" id=\"nav-hero-power\">\n",
      "<a class=\"\" href=\"/cards/hero-power?display=3\">\n",
      "<span class=\"b-list-label\">\r\n",
      "                   Hero Power\r\n",
      "    \r\n",
      "                </span>\n",
      "</a>\n",
      "</li>]\n"
     ]
    }
   ],
   "source": [
    "# Print the first 10 rows for sanity check\n",
    "rows = soup.find_all('li')\n",
    "print(rows[:10])"
   ]
  },
  {
   "cell_type": "code",
   "execution_count": 12,
   "metadata": {
    "collapsed": true
   },
   "outputs": [],
   "source": [
    "pollresults = soup.find_all(class_=\"poll-results b-poll-results hide\")"
   ]
  },
  {
   "cell_type": "code",
   "execution_count": 13,
   "metadata": {},
   "outputs": [
    {
     "data": {
      "text/plain": [
       "[<div class=\"poll-results b-poll-results hide\" results-poll-id=\"8356\" style=\"display: none;\">\n",
       " <p>What do you think about this card? - Single Choice</p>\n",
       " <ul>\n",
       " <li class=\"b-poll-item tip g-Meta-defining\" title=\"71 of 1164 votes\">\n",
       " <span class=\"choice\">Meta-defining!</span>\n",
       " <span class=\"percentage\">6.1%</span>\n",
       " <span class=\"amount\">\n",
       " <span class=\"graph\" style=\"width: 6.1%;\"></span>\n",
       " </span>\n",
       " </li>\n",
       " <li class=\"b-poll-item tip g-Very-Good\" title=\"281 of 1164 votes\">\n",
       " <span class=\"choice\">Very Good</span>\n",
       " <span class=\"percentage\">24.1%</span>\n",
       " <span class=\"amount\">\n",
       " <span class=\"graph\" style=\"width: 24.141%;\"></span>\n",
       " </span>\n",
       " </li>\n",
       " <li class=\"b-poll-item tip g-Playable\" title=\"478 of 1164 votes\">\n",
       " <span class=\"choice\">Playable</span>\n",
       " <span class=\"percentage\">41.1%</span>\n",
       " <span class=\"amount\">\n",
       " <span class=\"graph\" style=\"width: 41.065%;\"></span>\n",
       " </span>\n",
       " </li>\n",
       " <li class=\"b-poll-item tip g-Bad\" title=\"236 of 1164 votes\">\n",
       " <span class=\"choice\">Bad</span>\n",
       " <span class=\"percentage\">20.3%</span>\n",
       " <span class=\"amount\">\n",
       " <span class=\"graph\" style=\"width: 20.275%;\"></span>\n",
       " </span>\n",
       " </li>\n",
       " <li class=\"b-poll-item tip g-Dust-It\" title=\"98 of 1164 votes\">\n",
       " <span class=\"choice\">Dust It!</span>\n",
       " <span class=\"percentage\">8.4%</span>\n",
       " <span class=\"amount\">\n",
       " <span class=\"graph\" style=\"width: 8.419%;\"></span>\n",
       " </span>\n",
       " </li></ul>\n",
       " </div>]"
      ]
     },
     "execution_count": 13,
     "metadata": {},
     "output_type": "execute_result"
    }
   ],
   "source": [
    "pollresults"
   ]
  },
  {
   "cell_type": "code",
   "execution_count": 24,
   "metadata": {},
   "outputs": [
    {
     "data": {
      "text/plain": [
       "bs4.element.ResultSet"
      ]
     },
     "execution_count": 24,
     "metadata": {},
     "output_type": "execute_result"
    }
   ],
   "source": [
    "type(pollresults)\n",
    "#type(soup)"
   ]
  },
  {
   "cell_type": "code",
   "execution_count": 28,
   "metadata": {},
   "outputs": [],
   "source": [
    "pollresults = pollresults[0]"
   ]
  },
  {
   "cell_type": "code",
   "execution_count": 29,
   "metadata": {},
   "outputs": [
    {
     "data": {
      "text/plain": [
       "bs4.element.Tag"
      ]
     },
     "execution_count": 29,
     "metadata": {},
     "output_type": "execute_result"
    }
   ],
   "source": [
    "type(pollresults)"
   ]
  },
  {
   "cell_type": "code",
   "execution_count": 42,
   "metadata": {},
   "outputs": [],
   "source": [
    "spans = pollresults.find_all('span class', attrs={'choice':'Bad'})\n",
    "for span in spans:\n",
    "    print (span.string)"
   ]
  },
  {
   "cell_type": "code",
   "execution_count": 43,
   "metadata": {},
   "outputs": [
    {
     "data": {
      "text/plain": [
       "[]"
      ]
     },
     "execution_count": 43,
     "metadata": {},
     "output_type": "execute_result"
    }
   ],
   "source": [
    "spans"
   ]
  },
  {
   "cell_type": "code",
   "execution_count": null,
   "metadata": {
    "collapsed": true
   },
   "outputs": [],
   "source": []
  }
 ],
 "metadata": {
  "kernelspec": {
   "display_name": "Python 3",
   "language": "python",
   "name": "python3"
  },
  "language_info": {
   "codemirror_mode": {
    "name": "ipython",
    "version": 3
   },
   "file_extension": ".py",
   "mimetype": "text/x-python",
   "name": "python",
   "nbconvert_exporter": "python",
   "pygments_lexer": "ipython3",
   "version": "3.4.3"
  }
 },
 "nbformat": 4,
 "nbformat_minor": 2
}
