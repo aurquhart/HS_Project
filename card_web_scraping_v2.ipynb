{
 "cells": [
  {
   "cell_type": "code",
   "execution_count": 26,
   "metadata": {},
   "outputs": [],
   "source": [
    "#import libraries here\n",
    "from urllib.request import urlopen\n",
    "from bs4 import BeautifulSoup\n",
    "import pandas as pd\n"
   ]
  },
  {
   "cell_type": "code",
   "execution_count": 49,
   "metadata": {},
   "outputs": [
    {
     "name": "stdout",
     "output_type": "stream",
     "text": [
      "['https://www.hearthpwn.com/cards/90157', 'https://www.hearthpwn.com/cards/90158']\n"
     ]
    }
   ],
   "source": [
    "#Create a list of urls to scrape\n",
    "list_of_urls = []\n",
    "for i in range(90157,90159):\n",
    "    list_of_urls.append(\"https://www.hearthpwn.com/cards/\"+str(i))\n",
    "print(list_of_urls)\n",
    "    \n"
   ]
  },
  {
   "cell_type": "code",
   "execution_count": 20,
   "metadata": {},
   "outputs": [
    {
     "name": "stdout",
     "output_type": "stream",
     "text": [
      "https://www.hearthpwn.com/cards/100\n"
     ]
    }
   ],
   "source": [
    "print(\"https://www.hearthpwn.com/cards/\"+str(100))"
   ]
  },
  {
   "cell_type": "code",
   "execution_count": null,
   "metadata": {
    "collapsed": true
   },
   "outputs": [],
   "source": [
    "#select url\n",
    "#url = \"https://www.hearthpwn.com/cards/90159-hex-lord-malacrass\"\n",
    "#html = urlopen(url)"
   ]
  },
  {
   "cell_type": "code",
   "execution_count": 5,
   "metadata": {},
   "outputs": [
    {
     "data": {
      "text/plain": [
       "bs4.BeautifulSoup"
      ]
     },
     "execution_count": 5,
     "metadata": {},
     "output_type": "execute_result"
    }
   ],
   "source": [
    "#convert url to a bs object\n",
    "soup = BeautifulSoup(html, 'lxml')\n",
    "type(soup)"
   ]
  },
  {
   "cell_type": "code",
   "execution_count": 7,
   "metadata": {},
   "outputs": [
    {
     "name": "stdout",
     "output_type": "stream",
     "text": [
      "Hex Lord Malacrass\n"
     ]
    }
   ],
   "source": [
    "#Now start to pull together stuff for first table\n",
    "#First get the name of the card\n",
    "cardfullname = soup.h2.text\n",
    "print(cardfullname)"
   ]
  },
  {
   "cell_type": "code",
   "execution_count": 8,
   "metadata": {
    "collapsed": true
   },
   "outputs": [],
   "source": [
    "#Find poll results section\n",
    "match = soup.find('div',class_= 'poll-results b-poll-results hide' )"
   ]
  },
  {
   "cell_type": "code",
   "execution_count": 9,
   "metadata": {},
   "outputs": [
    {
     "name": "stdout",
     "output_type": "stream",
     "text": [
      "['Meta-defining!', 'Very Good', 'Playable', 'Bad', 'Dust It!']\n"
     ]
    }
   ],
   "source": [
    "#create list of choices\n",
    "choices = match.find_all('span',class_= 'choice' )\n",
    "choiceslist = []\n",
    "for c in choices:\n",
    "    choiceslist.append(c.text)\n",
    "    \n",
    "print (choiceslist)"
   ]
  },
  {
   "cell_type": "code",
   "execution_count": 10,
   "metadata": {},
   "outputs": [
    {
     "name": "stdout",
     "output_type": "stream",
     "text": [
      "['5.8%', '23.7%', '41.6%', '20.4%', '8.5%']\n"
     ]
    }
   ],
   "source": [
    "#create list of scores\n",
    "scores = match.find_all('span',class_= 'percentage' )\n",
    "percentlist = []\n",
    "for c in scores:\n",
    "    percentlist.append(c.text)\n",
    "    \n",
    "print (percentlist)"
   ]
  },
  {
   "cell_type": "code",
   "execution_count": 14,
   "metadata": {},
   "outputs": [
    {
     "name": "stdout",
     "output_type": "stream",
     "text": [
      "            card_name   card_strength percentage\n",
      "0  Hex Lord Malacrass  Meta-defining!       5.8%\n",
      "1  Hex Lord Malacrass       Very Good      23.7%\n",
      "2  Hex Lord Malacrass        Playable      41.6%\n",
      "3  Hex Lord Malacrass             Bad      20.4%\n",
      "4  Hex Lord Malacrass        Dust It!       8.5%\n"
     ]
    }
   ],
   "source": [
    "#create dataframe to join them together\n",
    "df = pd.DataFrame(\n",
    "    {'card_name': cardfullname,\n",
    "    'card_strength': choiceslist,\n",
    "    'percentage': percentlist\n",
    "    }\n",
    ")\n"
   ]
  },
  {
   "cell_type": "code",
   "execution_count": 66,
   "metadata": {},
   "outputs": [
    {
     "name": "stdout",
     "output_type": "stream",
     "text": [
      "       card_name   card_strength percentage\n",
      "0  Rain of Toads  Meta-defining!       3.3%\n",
      "1  Rain of Toads       Very Good      24.2%\n",
      "2  Rain of Toads        Playable      38.8%\n",
      "3  Rain of Toads             Bad      25.7%\n",
      "4  Rain of Toads        Dust It!         8%\n",
      "0     Pyromaniac  Meta-defining!       7.2%\n",
      "1     Pyromaniac       Very Good      50.7%\n",
      "2     Pyromaniac        Playable      34.3%\n",
      "3     Pyromaniac             Bad       6.7%\n",
      "4     Pyromaniac        Dust It!       1.1%\n"
     ]
    }
   ],
   "source": [
    "#Try to do this all in one function\n",
    "\n",
    "columns = ['card_name','card_strength', 'percentage']\n",
    "df2 = pd.DataFrame(columns=columns)\n",
    "\n",
    "for c in list_of_urls:\n",
    "    html = urlopen(c) # open url\n",
    "    soup = BeautifulSoup(html, 'lxml') # create bs object of url\n",
    "    cardfullname = soup.h2.text #get card name back\n",
    "    #print(cardfullname)\n",
    "    match = soup.find('div',class_= 'poll-results b-poll-results hide' )\n",
    "    choices = match.find_all('span',class_= 'choice' )\n",
    "    choiceslist = []\n",
    "    for c in choices:\n",
    "        choiceslist.append(c.text)\n",
    "    scores = match.find_all('span',class_= 'percentage' )\n",
    "    percentlist = []\n",
    "    for c in scores:\n",
    "        percentlist.append(c.text)\n",
    "    df = pd.DataFrame(\n",
    "    {'card_name': cardfullname,\n",
    "    'card_strength': choiceslist,\n",
    "    'percentage': percentlist\n",
    "    })\n",
    "    df2 = df2.append(df)\n",
    "    \n",
    "print (df2)\n",
    "\n",
    "    "
   ]
  },
  {
   "cell_type": "code",
   "execution_count": null,
   "metadata": {
    "collapsed": true
   },
   "outputs": [],
   "source": []
  }
 ],
 "metadata": {
  "kernelspec": {
   "display_name": "Python 3",
   "language": "python",
   "name": "python3"
  },
  "language_info": {
   "codemirror_mode": {
    "name": "ipython",
    "version": 3
   },
   "file_extension": ".py",
   "mimetype": "text/x-python",
   "name": "python",
   "nbconvert_exporter": "python",
   "pygments_lexer": "ipython3",
   "version": "3.4.3"
  }
 },
 "nbformat": 4,
 "nbformat_minor": 2
}
